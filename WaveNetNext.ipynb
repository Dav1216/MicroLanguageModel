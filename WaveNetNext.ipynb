{
 "cells": [
  {
   "cell_type": "code",
   "execution_count": 385,
   "id": "18f387c4",
   "metadata": {},
   "outputs": [],
   "source": [
    "import torch\n",
    "import torch.nn.functional as F\n",
    "from torch import nn\n",
    "import matplotlib.pyplot as plt\n",
    "%matplotlib inline"
   ]
  },
  {
   "cell_type": "code",
   "execution_count": 386,
   "id": "ff33a2c4",
   "metadata": {},
   "outputs": [],
   "source": [
    "torch.manual_seed(42)\n",
    "random.seed(42)"
   ]
  },
  {
   "cell_type": "code",
   "execution_count": 387,
   "id": "01e9bb38",
   "metadata": {
    "scrolled": true
   },
   "outputs": [
    {
     "data": {
      "text/plain": [
       "867076"
      ]
     },
     "execution_count": 387,
     "metadata": {},
     "output_type": "execute_result"
    }
   ],
   "source": [
    "# loads Iliad by Homer\n",
    "text = open('/Users/david/condaProjects/ily.txt', 'r').read()\n",
    "len(rows)"
   ]
  },
  {
   "cell_type": "code",
   "execution_count": 388,
   "id": "e4077fac",
   "metadata": {},
   "outputs": [],
   "source": [
    "# hyper parameters \n",
    "block_size = 16 # context sizes\n",
    "n_embd = 12 # size of embedding vectors\n",
    "n_hidden = 200 # the number of neurons in the hidden layer of the WaveNet\n",
    "n_consecutives = 2 # grouping of nodes in the WaveNet\n",
    "max_steps = 200000 # max steps when training\n",
    "batch_size = 32 # batch size to be processed during training\n",
    "learning_rate = 0.01 # learning rate during training"
   ]
  },
  {
   "cell_type": "code",
   "execution_count": 389,
   "id": "cb090cc5",
   "metadata": {},
   "outputs": [],
   "source": [
    "# creating character wise encode and decode functions\n",
    "chars = sorted(list(set(''.join(rows))))\n",
    "ctoi = {s: i + 1 for i, s in enumerate(chars)}\n",
    "ctoi['~'] = 0\n",
    "itoc = {i:s for s, i in stoi.items()}\n",
    "vocab_size = len(ctoi)\n",
    "\n",
    "enc = lambda ch: ctoi[ch]\n",
    "dec = lambda token: itoc[token]"
   ]
  },
  {
   "cell_type": "code",
   "execution_count": 390,
   "id": "2cbe84e3",
   "metadata": {},
   "outputs": [
    {
     "name": "stdout",
     "output_type": "stream",
     "text": [
      "torch.Size([693661, 16]) torch.Size([693661])\n",
      "torch.Size([173417, 16]) torch.Size([173417])\n"
     ]
    }
   ],
   "source": [
    "# creating the training and test datasets\n",
    "def build_dataset(text, block_size):\n",
    "    X, Y = [], []\n",
    "    context = [0] * block_size\n",
    "\n",
    "    for ch in text + '~':\n",
    "        ix = enc(ch)\n",
    "        X.append(context)\n",
    "        Y.append(ix)\n",
    "\n",
    "        context = context[1:] + [ix]\n",
    "\n",
    "    X = torch.tensor(X)\n",
    "    Y = torch.tensor(Y)\n",
    "    \n",
    "    print(X.shape, Y.shape)\n",
    "    return X, Y\n",
    "\n",
    "n = int(0.8 * len(rows))\n",
    "\n",
    "Xtr, Ytr = build_dataset(rows[:n], block_size)\n",
    "Xte, Yte = build_dataset(rows[n:], block_size)"
   ]
  },
  {
   "cell_type": "code",
   "execution_count": 391,
   "id": "25b324a6",
   "metadata": {},
   "outputs": [
    {
     "name": "stdout",
     "output_type": "stream",
     "text": [
      "~~~~~~~~~~~~~~~~ --> A\n",
      "~~~~~~~~~~~~~~~A --> c\n",
      "~~~~~~~~~~~~~~Ac --> h\n",
      "~~~~~~~~~~~~~Ach --> i\n",
      "~~~~~~~~~~~~Achi --> l\n",
      "~~~~~~~~~~~Achil --> l\n",
      "~~~~~~~~~~Achill --> e\n",
      "~~~~~~~~~Achille --> s\n",
      "~~~~~~~~Achilles --> ’\n",
      "~~~~~~~Achilles’ -->  \n"
     ]
    }
   ],
   "source": [
    "for x, y in zip(Xtr[:10], Ytr[:10]):\n",
    "    print(''.join(dec(ix.item()) for ix in x), '-->', dec(y.item()))"
   ]
  },
  {
   "cell_type": "code",
   "execution_count": 392,
   "id": "97295832",
   "metadata": {},
   "outputs": [],
   "source": [
    "# custom module for the WaveNet\n",
    "class FlattenCons(nn.Module):\n",
    "    def __init__(self, n):\n",
    "        self.n = n\n",
    "    \n",
    "    def __call__(self, x):\n",
    "        B, T, C = x.shape\n",
    "        x = torch.reshape(x, (B, T//self.n, C*self.n))\n",
    "        \n",
    "        if x.shape[1] == 1:\n",
    "            x = x.squeeze(1)\n",
    "        self.out = x\n",
    "        \n",
    "        return self.out        \n",
    "\n",
    "class Permute(nn.Module):\n",
    "    def __call__(self, x):\n",
    "        out = x.permute(0, 2, 1)\n",
    "        \n",
    "        return out  "
   ]
  },
  {
   "cell_type": "code",
   "execution_count": 393,
   "id": "e1b3bbe2",
   "metadata": {},
   "outputs": [],
   "source": [
    "# initializing the layers\n",
    "modules =  [\n",
    "    nn.Embedding(vocab_size, n_embd),\n",
    "    FlattenCons(n_consecutives), nn.Linear(n_embd * n_consecutives, n_hidden, bias=False), Permute(), nn.BatchNorm1d(n_hidden), Permute(), nn.Tanh(),\n",
    "    FlattenCons(n_consecutives), nn.Linear(n_hidden * n_consecutives, n_hidden, bias=False), Permute(), nn.BatchNorm1d(n_hidden), Permute(), nn.Tanh(),\n",
    "    FlattenCons(n_consecutives), nn.Linear(n_hidden * n_consecutives, n_hidden, bias=False), Permute(), nn.BatchNorm1d(n_hidden), Permute(), nn.Tanh(),\n",
    "    FlattenCons(n_consecutives), nn.Linear(n_hidden * n_consecutives, n_hidden, bias=False), nn.BatchNorm1d(n_hidden), nn.Tanh(),\n",
    "    nn.Linear(n_hidden, vocab_size)\n",
    "    ]\n",
    "\n",
    "# initializing the model\n",
    "model = nn.Sequential(*modules)\n",
    "\n",
    "with torch.no_grad():\n",
    "    model[-1].weight *= 0.1 # make last later less confident\n",
    "    \n",
    "parameters = [p for p in model]\n",
    "\n",
    "for p in parameters:\n",
    "    if not isinstance(p, Permute) and not isinstance(p, FlattenCons) and not isinstance(p, nn.Tanh):\n",
    "        p.weight.requires_grad = True"
   ]
  },
  {
   "cell_type": "code",
   "execution_count": 394,
   "id": "b32f5fc9",
   "metadata": {
    "scrolled": false
   },
   "outputs": [
    {
     "name": "stdout",
     "output_type": "stream",
     "text": [
      "4.412376880645752\n",
      "2.147263288497925\n",
      "1.634331226348877\n",
      "1.3853158950805664\n",
      "1.6208477020263672\n",
      "1.3605211973190308\n",
      "1.6196937561035156\n",
      "1.363328456878662\n",
      "1.1307172775268555\n",
      "1.3015536069869995\n"
     ]
    }
   ],
   "source": [
    "losses = []\n",
    "\n",
    "# trains using gradient descent optimizer\n",
    "for i in range(max_steps):\n",
    "    \n",
    "    ix = torch.randint(0, Xtr.shape[0], (batch_size,))\n",
    "    Xb, Yb = Xtr[ix], Ytr[ix]\n",
    "    \n",
    "    feed_x = Xb\n",
    "    logits = model(feed_x)\n",
    "\n",
    "    loss = F.cross_entropy(logits, Yb) # loss function\n",
    "    # backward pass\n",
    "    for p in parameters:\n",
    "        if not isinstance(p, Permute) and not isinstance(p, FlattenCons) and not isinstance(p, nn.Tanh):\n",
    "            p.weight.grad = None\n",
    "    loss.backward()\n",
    "    \n",
    "    losses.append(loss)\n",
    "\n",
    "    lr = learning_rate if i < max_steps * 0.75 else learning_rate / 10\n",
    "    for p in parameters:\n",
    "        if not isinstance(p, Permute) and not isinstance(p, FlattenCons) and not isinstance(p, nn.Tanh):\n",
    "            p.weight.data += -lr * p.weight.grad\n",
    "        \n",
    "    losses.append(loss.log10().item())\n",
    "    \n",
    "    if i % 20000 == 0:\n",
    "        print(loss.item())"
   ]
  },
  {
   "cell_type": "code",
   "execution_count": 395,
   "id": "f94fda5e",
   "metadata": {},
   "outputs": [],
   "source": [
    "# set training to false\n",
    "for p in parameters:\n",
    "    p.training = False"
   ]
  },
  {
   "cell_type": "code",
   "execution_count": 396,
   "id": "b1bcef8f",
   "metadata": {},
   "outputs": [],
   "source": [
    "losses = torch.tensor(losses).view(-1, 1000).mean(1) "
   ]
  },
  {
   "cell_type": "code",
   "execution_count": 397,
   "id": "7d049c4f",
   "metadata": {},
   "outputs": [
    {
     "data": {
      "text/plain": [
       "[<matplotlib.lines.Line2D at 0x11e9edd10>]"
      ]
     },
     "execution_count": 397,
     "metadata": {},
     "output_type": "execute_result"
    },
    {
     "data": {
      "image/png": "[encoded data removed]",
      "text/plain": [
       "<Figure size 640x480 with 1 Axes>"
      ]
     },
     "metadata": {},
     "output_type": "display_data"
    }
   ],
   "source": [
    "# plots the losses during training\n",
    "plt.plot(losses)"
   ]
  },
  {
   "cell_type": "code",
   "execution_count": 398,
   "id": "9b38334c",
   "metadata": {},
   "outputs": [
    {
     "name": "stdout",
     "output_type": "stream",
     "text": [
      "train 1.3537029027938843\n",
      "test 1.4958065748214722\n"
     ]
    }
   ],
   "source": [
    "# evaluate on both train and test (see potential overfitting)\n",
    "@torch.no_grad()\n",
    "def split_loss(split):\n",
    "    x, y = {\n",
    "        'train': (Xtr, Ytr),\n",
    "        'test': (Xte, Yte)\n",
    "    } [split]\n",
    "    \n",
    "    logits = model(x) \n",
    "    \n",
    "    loss = F.cross_entropy(logits, y) \n",
    "    print(split, loss.item())\n",
    "\n",
    "split_loss('train')\n",
    "split_loss('test')"
   ]
  },
  {
   "cell_type": "code",
   "execution_count": 399,
   "id": "c8aac472",
   "metadata": {
    "scrolled": true
   },
   "outputs": [
    {
     "name": "stdout",
     "output_type": "stream",
     "text": [
      "rous the shades, and Po dame or kenguard his nervest battling prelwout in the prome, and to the days a long, Collect fair and victor pospitap’d to strong; all the storus, and braves tour golden woed, and men,\n",
      "At thee through heaps known unred, and heaven/.\n",
      "A tate, bulöven it so whom forby the tower;\n",
      "By Jove the monarches middep’s yet and sulertoristingïp; from imploopoke.\n",
      "Enzove this will,\n",
      "Nor a—twing helmet his laid;\n",
      "To tarter, secret brothere bold her field; the circle spraise: and savon’s prince.\n",
      "Such ye his sage\n",
      "Of had dext Prives.\n",
      "\n",
      "”eaon inters’ wing, in the from who sworce and Tortal conding god thee, in a her bleeds,\n",
      "Each mydaning victor, saved, his risife, fon in the gods of sangues reign,\n",
      "Jove seik, succenombedy stoopp’d the plain.\n",
      "As Jove forman glory;\n",
      "Great streful her Gell the borning heart.\n",
      "Geeds and own; king soul exterved by the, for every, assal sheads!\n",
      "Now to the the Greciors led his waithin, for the dever-hisol’d till no more;\n",
      "To rite, and fired,\n",
      "And fruets and great the foe combies at our day\n",
      "To talmence celess worth!\n",
      "At armies gracian first their wood.”\n",
      "\n",
      "This return’d his eye\n",
      "In points prevemaid bulhing wings combat bold: himself his earth, we Trojan must glowing tBrest whom rupomes; prepare us the wide with wisdom blacknow,\n",
      "And Twath young,\n",
      "Such commuire, by that lended his bent to earth,\n",
      "Tpeless’s provokes, and known towerind in men, and all the numerous death;\n",
      "The gathely Pelemn Dasping numbat main.\n",
      "Bires enging the with attending smood.\n",
      "For thee they flew;\n",
      "The steeds he strength in vence;\n",
      "The skies, till, with a warrior throne agree ends:\n",
      "\n",
      "CArister swiather’s waste, and davn and imached to one succeeds.\n",
      "Soon, so mall resign’d.\n",
      "The chief, bounds, and loud discharms ound;\n",
      "A round the fire of old.\n",
      "What shone and share be queen mine.\n",
      "Live loves thy offsmame,\n",
      "Maved alone chaught.\n",
      "Great Hector fear,\n",
      "In vain, cried in their far;\n",
      "Hor Astenor shields:\n",
      "Then fame, he stood,\n",
      "Arm’d the cave the rise;\n",
      "Measing wourselves thy daring unwilds friends,\n",
      "And Greece clow’d.\n",
      "Wide that let immortal on the Lifts and as a live to be lappy rout.\n",
      "In vain’d, nor feast to the lian goaders let now survey dust delight kindling he dar,\n",
      "Bernal warths be glorious on their branger all succate of neavens, and her on war;\n",
      "Or Met to chose the cloud number that embodes, your twaming stood:\n",
      "Fillful land to martion thost,\n",
      "Our mingled umrakes at hopreadful meet, and my so manly fleat leaved that refieplarch sternus air four’d the rank where was in bids their stretch had they shaded your darkness explore dead in from if fame of at his till spear own?:\n",
      "“With shall praise:\n",
      "To strong he, when up to the plain;\n",
      "Bies,\n",
      "And braid, the wine.\n",
      "Sedhe silent calls,\n",
      "And all he tain:\n",
      "The save depruicing floody armies, to the yeather raised her helmet, and his immortals large of gly, and lates”\n"
     ]
    }
   ],
   "source": [
    "# generate an output starting from context of block_size consecutive special characters ~\n",
    "out = []\n",
    "context = [0] * block_size\n",
    "\n",
    "while True:\n",
    "    feed_x = torch.tensor([context])\n",
    "\n",
    "    logits = model(feed_x)\n",
    "    probs = F.softmax(logits, dim = 1)\n",
    "\n",
    "    ix = torch.multinomial(probs, num_samples=1).item()\n",
    "    context = context[1:] + [ix]\n",
    "    out.append(dec(ix))\n",
    "\n",
    "    if ix == 0:\n",
    "        break\n",
    "\n",
    "print(''.join(s for s in out if s != '~'))"
   ]
  }
 ],
 "metadata": {
  "kernelspec": {
   "display_name": "nnetworks",
   "language": "python",
   "name": "nnetworks"
  },
  "language_info": {
   "codemirror_mode": {
    "name": "ipython",
    "version": 3
   },
   "file_extension": ".py",
   "mimetype": "text/x-python",
   "name": "python",
   "nbconvert_exporter": "python",
   "pygments_lexer": "ipython3",
   "version": "3.11.4"
  }
 },
 "nbformat": 4,
 "nbformat_minor": 5
}
