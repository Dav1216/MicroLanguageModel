{
 "cells": [
  {
   "cell_type": "code",
   "execution_count": 1,
   "id": "67469e3f",
   "metadata": {},
   "outputs": [],
   "source": [
    "import matplotlib.pyplot as plt\n",
    "from collections import OrderedDict\n",
    "import numpy as np\n",
    "from scipy.stats import truncnorm\n",
    "import math\n",
    "import random\n",
    "%matplotlib inline"
   ]
  },
  {
   "cell_type": "code",
   "execution_count": 2,
   "id": "22fdcdf4",
   "metadata": {},
   "outputs": [
    {
     "data": {
      "text/plain": [
       "20736"
      ]
     },
     "execution_count": 2,
     "metadata": {},
     "output_type": "execute_result"
    }
   ],
   "source": [
    "# loads Iliad by Homer\n",
    "text = open('/Users/david/condaProjects/ily.txt', 'r').read().splitlines()\n",
    "len(text)"
   ]
  },
  {
   "cell_type": "code",
   "execution_count": 3,
   "id": "db63dd34",
   "metadata": {},
   "outputs": [
    {
     "data": {
      "text/plain": [
       "7.78389150577152"
      ]
     },
     "execution_count": 3,
     "metadata": {},
     "output_type": "execute_result"
    }
   ],
   "source": [
    "# gets the average length of a row in the book in terms of words\n",
    "summ = 0\n",
    "N = 0\n",
    "\n",
    "for line in text:\n",
    "    if line != '':\n",
    "        summ += len(line.split())\n",
    "        N += 1\n",
    "        \n",
    "avg_words_row = summ / N\n",
    "avg_words_row"
   ]
  },
  {
   "cell_type": "code",
   "execution_count": 4,
   "id": "dd6be596",
   "metadata": {},
   "outputs": [],
   "source": [
    "# get a list with all the words\n",
    "words = [w for row in text for w in row.split()]"
   ]
  },
  {
   "cell_type": "code",
   "execution_count": 5,
   "id": "3d596de5",
   "metadata": {},
   "outputs": [
    {
     "data": {
      "text/plain": [
       "150377"
      ]
     },
     "execution_count": 5,
     "metadata": {},
     "output_type": "execute_result"
    }
   ],
   "source": [
    "len(words)"
   ]
  },
  {
   "cell_type": "code",
   "execution_count": 6,
   "id": "fd5d2ebb",
   "metadata": {},
   "outputs": [],
   "source": [
    "# counts of each element in the list\n",
    "element_counts = {}\n",
    "\n",
    "for word in words:\n",
    "    if word in element_counts:\n",
    "        element_counts[word] += 1\n",
    "    else:\n",
    "        element_counts[word] = 1"
   ]
  },
  {
   "cell_type": "code",
   "execution_count": 7,
   "id": "d0a6b934",
   "metadata": {},
   "outputs": [
    {
     "data": {
      "text/plain": [
       "[<matplotlib.lines.Line2D at 0x7fbcb26967c0>]"
      ]
     },
     "execution_count": 7,
     "metadata": {},
     "output_type": "execute_result"
    },
    {
     "data": {
      "image/png": "[encoded data removed]",
      "text/plain": [
       "<Figure size 432x288 with 1 Axes>"
      ]
     },
     "metadata": {
      "needs_background": "light"
     },
     "output_type": "display_data"
    }
   ],
   "source": [
    "# plot the counts\n",
    "values = np.array(list(element_counts.values()))\n",
    "\n",
    "plt.plot(values)"
   ]
  },
  {
   "cell_type": "code",
   "execution_count": 8,
   "id": "33b94036",
   "metadata": {},
   "outputs": [
    {
     "data": {
      "text/plain": [
       "86.03422883550861"
      ]
     },
     "execution_count": 8,
     "metadata": {},
     "output_type": "execute_result"
    }
   ],
   "source": [
    "# prevalence of low-represented words with the threshold being the ceiling of the mean of the values\n",
    "len([key for key, val in element_counts.items() if val < math.ceil(values.mean())]) / len(element_counts) * 100"
   ]
  },
  {
   "cell_type": "code",
   "execution_count": 9,
   "id": "e56d4c94",
   "metadata": {},
   "outputs": [],
   "source": [
    "# get the number of times to add a low-represented word\n",
    "to_fill_txt = {}\n",
    "\n",
    "for key, val in element_counts.items():\n",
    "    if val < math.ceil(values.mean()):\n",
    "        increased_val = val * random.randint(17,33)\n",
    "        element_counts[key] = increased_val\n",
    "        to_fill_txt[key] = increased_val - val"
   ]
  },
  {
   "cell_type": "code",
   "execution_count": 10,
   "id": "f40d7725",
   "metadata": {},
   "outputs": [
    {
     "data": {
      "text/plain": [
       "[<matplotlib.lines.Line2D at 0x7fbcb2988ca0>]"
      ]
     },
     "execution_count": 10,
     "metadata": {},
     "output_type": "execute_result"
    },
    {
     "data": {
      "image/png": "[encoded data removed]",
      "text/plain": [
       "<Figure size 432x288 with 1 Axes>"
      ]
     },
     "metadata": {
      "needs_background": "light"
     },
     "output_type": "display_data"
    }
   ],
   "source": [
    "values = np.array(list(element_counts.values()))\n",
    "\n",
    "plt.plot(values)"
   ]
  },
  {
   "cell_type": "code",
   "execution_count": 11,
   "id": "739015c3",
   "metadata": {},
   "outputs": [
    {
     "name": "stdout",
     "output_type": "stream",
     "text": [
      "to\n",
      "the\n",
      "The\n",
      "of\n",
      "on\n",
      "and\n",
      "in\n",
      "from\n",
      "a\n",
      "And\n",
      "with\n",
      "his\n",
      "he\n",
      "their\n",
      "thy\n"
     ]
    }
   ],
   "source": [
    "# most common words\n",
    "for key, val in element_counts.items():\n",
    "    if val > 700:\n",
    "        print(key)"
   ]
  },
  {
   "cell_type": "code",
   "execution_count": 12,
   "id": "e07da09e",
   "metadata": {},
   "outputs": [],
   "source": [
    "# the words that need to be added to the book\n",
    "balancing_extension = []\n",
    "\n",
    "for i in to_fill_txt.keys():\n",
    "    for j in range(to_fill_txt[i]):\n",
    "        balancing_extension.append(i)"
   ]
  },
  {
   "cell_type": "code",
   "execution_count": 13,
   "id": "71bfb40c",
   "metadata": {},
   "outputs": [],
   "source": [
    "random.shuffle(balancing_extension)"
   ]
  },
  {
   "cell_type": "code",
   "execution_count": 16,
   "id": "237bb9c2",
   "metadata": {},
   "outputs": [],
   "source": [
    "# MOCK THE SHAPE OF THE ORIGINAL TEXT FILE\n",
    "final = \"\"\n",
    "final_list = words + balancing_extension\n",
    "index = 0\n",
    "while index < len(final_list):\n",
    "    for _ in range(8):\n",
    "        for _ in range(9):\n",
    "            if index < len(final_list):\n",
    "                final += (final_list[index])\n",
    "                final += (' ')\n",
    "                index += 1\n",
    "        final += ('\\n')\n",
    "    final += ('\\n')"
   ]
  },
  {
   "cell_type": "code",
   "execution_count": 17,
   "id": "64f83747",
   "metadata": {},
   "outputs": [],
   "source": [
    "OUTPUT = open('/Users/david/condaProjects/balanced_ily.txt', 'w')"
   ]
  },
  {
   "cell_type": "code",
   "execution_count": 18,
   "id": "bbb6512b",
   "metadata": {},
   "outputs": [
    {
     "data": {
      "text/plain": [
       "7238514"
      ]
     },
     "execution_count": 18,
     "metadata": {},
     "output_type": "execute_result"
    }
   ],
   "source": [
    "OUTPUT.write(final)"
   ]
  },
  {
   "cell_type": "code",
   "execution_count": 19,
   "id": "fb6e8749",
   "metadata": {},
   "outputs": [],
   "source": [
    "OUTPUT.close()"
   ]
  }
 ],
 "metadata": {
  "kernelspec": {
   "display_name": "Python 3",
   "language": "python",
   "name": "python3"
  },
  "language_info": {
   "codemirror_mode": {
    "name": "ipython",
    "version": 3
   },
   "file_extension": ".py",
   "mimetype": "text/x-python",
   "name": "python",
   "nbconvert_exporter": "python",
   "pygments_lexer": "ipython3",
   "version": "3.8.8"
  }
 },
 "nbformat": 4,
 "nbformat_minor": 5
}
